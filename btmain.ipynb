{
 "cells": [
  {
   "cell_type": "code",
   "execution_count": 11,
   "metadata": {},
   "outputs": [
    {
     "name": "stdout",
     "output_type": "stream",
     "text": [
      "Starting Portfolio Value: 10000.00\n",
      "Final Portfolio Value: 10000.00\n",
      "PnL: 0.00\n"
     ]
    },
    {
     "data": {
      "text/plain": [
       "1"
      ]
     },
     "execution_count": 11,
     "metadata": {},
     "output_type": "execute_result"
    }
   ],
   "source": [
    "import datetime\n",
    "import backtrader as bt\n",
    "from strategies import *\n",
    "\n",
    "cerebro = bt.Cerebro()\n",
    "\n",
    "# Set data parameters and add to Cerebro\n",
    "\n",
    "data = bt.feeds.YahooFinanceCSVData(dataname='TSLA.csv',\n",
    "                                    fromdate=datetime.datetime(2016, 1, 1),\n",
    "                                    todate=datetime.datetime(2017, 12, 25))\n",
    "\n",
    "#settings for out-of-sample data\n",
    "#fromdate=datetime.datetime(2018, 1, 1),\n",
    "#todate=datetime.datetime(2019, 12, 25))\n",
    "\n",
    "cerebro.adddata(data)\n",
    "\n",
    "# Default position size\n",
    "\n",
    "cerebro.addsizer(bt.sizers.SizerFix, stake=3)\n",
    "\n",
    "if __name__ == '__main__':\n",
    "    #Run Cerebro Engine\n",
    "    start_portfolio_value = cerebro.broker.getvalue()\n",
    "    cerebro.run() \n",
    "    end_portfolio_value = cerebro.broker.getvalue()\n",
    "    pnl = end_portfolio_value - start_portfolio_value \n",
    "    print('Starting Portfolio Value: %.2f' % start_portfolio_value) \n",
    "    print('Final Portfolio Value: %.2f' % end_portfolio_value) \n",
    "    print('PnL: %.2f' % pnl)\n",
    "    \n",
    "class MAcrossover(bt.Strategy): \n",
    "    \n",
    "    #Moving average parameters\n",
    "    params = (('pfast',20),('pslow',50),)\n",
    "    \n",
    "    def log(self, txt, dt=None):     \n",
    "        dt = dt or self.datas[0].datetime.date(0)     \n",
    "        print('%s, %s' % (dt.isoformat(), txt)) \n",
    "    \n",
    "    \n",
    "    def __init__(self):     \n",
    "        self.dataclose = self.datas[0].close     \n",
    "        # Order variable will contain ongoing order details/status\n",
    "        self.order = None     \n",
    "        # Instantiate moving averages     \n",
    "        self.slow_sma = bt.indicators.MovingAverageSimple(self.datas[0],                                       \n",
    "                        period=self.params.pslow)     \n",
    "        self.fast_sma = bt.indicators.MovingAverageSimple(self.datas[0], \n",
    "                        period=self.params.pfast)\n",
    "        \n",
    "    \n",
    "    def notify_order(self, order):\n",
    "        if order.status in [order.Submitted, order.Accepted]:\n",
    "            #Active Buy/Sell order submitted/accepted - Nothing to do\n",
    "            return\n",
    "        #Check if an order has been completed\n",
    "        #Attention: broker could reject order if not enough cash\n",
    "        if order.status in [order.Completed]:\n",
    "            if order.isbuy():             \n",
    "                self.log('BUY EXECUTED, %.2f' % order.executed.price)         \n",
    "            elif order.issell():             \n",
    "                self.log('SELL EXECUTED, %.2f' % order.executed.price)\n",
    "            self.bar_executed = len(self)\n",
    "        elif order.status in [order.Canceled, order.Margin, order.Rejected]:\n",
    "            self.log('Order Canceled/Margin/Rejected')     \n",
    "        #Reset orders  \n",
    "        self.order = None\n",
    "    \n",
    "    \n",
    "    def next(self):\n",
    "        if self.order:\n",
    "            return\n",
    "        #Check if we are in the market\n",
    "        if not self.position:\n",
    "        #We are not in the market, look for a signal to OPEN trades\n",
    "            #If the 20 SMA is above the 50 SMA\n",
    "            if self.fast_sma[0] > self.slow_sma[0] and self.fast_sma[-1] < self.slow_sma[-1]:\n",
    "                 self.log('BUY CREATE, %.2f' % self.dataclose[0])\n",
    "                 #Keep track of the created order to avoid a 2nd order\n",
    "                 self.order = self.buy()\n",
    "            #Otherwise if the 20 SMA is below the 50 SMA\n",
    "            elif self.fast_sma[0] < self.slow_sma[0] and self.fast_sma[-1] > self.slow_sma[-1]:\n",
    "                self.log('SELL CREATE, %.2f' % self.dataclose[0])\n",
    "            #Keep track of the created order to avoid a 2nd order\n",
    "            self.order = self.sell()\n",
    "        else:\n",
    "            # We are already in the market, look for a signal to CLOSE trades\n",
    "            if len(self) >= (self.bar_executed + 5):\n",
    "                self.log('CLOSE CREATE, %.2f' % self.dataclose[0])\n",
    "                self.order = self.close()\n",
    "\n",
    "# Add strategy to Cerebro\n",
    "\n",
    "cerebro.addstrategy(MAcrossover)"
   ]
  },
  {
   "cell_type": "code",
   "execution_count": null,
   "metadata": {},
   "outputs": [],
   "source": []
  },
  {
   "cell_type": "code",
   "execution_count": null,
   "metadata": {},
   "outputs": [],
   "source": []
  }
 ],
 "metadata": {
  "kernelspec": {
   "display_name": "Python 3",
   "language": "python",
   "name": "python3"
  },
  "language_info": {
   "codemirror_mode": {
    "name": "ipython",
    "version": 3
   },
   "file_extension": ".py",
   "mimetype": "text/x-python",
   "name": "python",
   "nbconvert_exporter": "python",
   "pygments_lexer": "ipython3",
   "version": "3.7.4"
  }
 },
 "nbformat": 4,
 "nbformat_minor": 2
}
