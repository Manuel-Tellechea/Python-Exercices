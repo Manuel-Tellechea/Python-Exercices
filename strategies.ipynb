{
 "cells": [
  {
   "cell_type": "code",
   "execution_count": null,
   "metadata": {},
   "outputs": [],
   "source": [
    "import backtrader as bt\n",
    "\n",
    "class PrintClose(bt.Strategy):\n",
    "     \n",
    "    def __init__(self):\n",
    "         #Keep a reference to the \"close\" line in the data[0] dataseries\n",
    "         self.dataclose = self.datas[0].close\n",
    "    \n",
    "    def log(self, txt, dt=None):     \n",
    "        dt = dt or self.datas[0].datetime.date(0)     \n",
    "        print('%s, %s' % (dt.isoformat(), txt)) #Print date and close\n",
    "\n",
    "    def next(self):     \n",
    "        #Log closing price to 2 decimals     \n",
    "        self.log('Close: %.2f' % self.dataclose[0])"
   ]
  }
 ],
 "metadata": {
  "kernelspec": {
   "display_name": "Python 3",
   "language": "python",
   "name": "python3"
  },
  "language_info": {
   "codemirror_mode": {
    "name": "ipython",
    "version": 3
   },
   "file_extension": ".py",
   "mimetype": "text/x-python",
   "name": "python",
   "nbconvert_exporter": "python",
   "pygments_lexer": "ipython3",
   "version": "3.7.4"
  }
 },
 "nbformat": 4,
 "nbformat_minor": 2
}
