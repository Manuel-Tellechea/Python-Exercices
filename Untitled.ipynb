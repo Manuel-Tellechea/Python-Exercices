{
 "cells": [
  {
   "cell_type": "code",
   "execution_count": 1,
   "metadata": {},
   "outputs": [
    {
     "name": "stdout",
     "output_type": "stream",
     "text": [
      "Teclee una frase: Hola\n",
      "H\n",
      "oH\n",
      "loH\n",
      "aloH\n"
     ]
    }
   ],
   "source": [
    "entrada = (str(input(\"Teclee una frase: \")))\n",
    "salida = ''\n",
    "for n in entrada:\n",
    "    salida = n + salida\n",
    "    print(salida)"
   ]
  },
  {
   "cell_type": "code",
   "execution_count": 2,
   "metadata": {},
   "outputs": [
    {
     "data": {
      "text/plain": [
       "'Hola'"
      ]
     },
     "execution_count": 2,
     "metadata": {},
     "output_type": "execute_result"
    }
   ],
   "source": [
    "x = \"Hola\"\n",
    "salida = ''\n",
    "x + salida"
   ]
  },
  {
   "cell_type": "code",
   "execution_count": 3,
   "metadata": {},
   "outputs": [
    {
     "data": {
      "text/plain": [
       "''"
      ]
     },
     "execution_count": 3,
     "metadata": {},
     "output_type": "execute_result"
    }
   ],
   "source": [
    "salida"
   ]
  },
  {
   "cell_type": "code",
   "execution_count": 2,
   "metadata": {},
   "outputs": [
    {
     "name": "stdout",
     "output_type": "stream",
     "text": [
      "Escribe una palabra: aguja\n",
      "aguja\n",
      "['a']\n",
      "aguja\n",
      "['a', 'g']\n",
      "aguja\n",
      "['a', 'g', 'u']\n",
      "aguja\n",
      "['a', 'g', 'u', 'j']\n"
     ]
    }
   ],
   "source": [
    "palabra = input(\"Escribe una palabra: \")\n",
    "lista = []\n",
    "for c in palabra:\n",
    "    if(c not in lista):\n",
    "        lista.append(c)\n",
    "        print(palabra)\n",
    "        print(lista)"
   ]
  },
  {
   "cell_type": "code",
   "execution_count": 1,
   "metadata": {},
   "outputs": [
    {
     "name": "stdout",
     "output_type": "stream",
     "text": [
      "aliugA\n",
      "No es palindromo\n"
     ]
    }
   ],
   "source": [
    "def palindromo(palabra):\n",
    "\n",
    "    palabra_al_reves = palabra[::-1]\n",
    "\n",
    "    print(palabra_al_reves)\n",
    "\n",
    "    if( palabra == palabra_al_reves ):\n",
    "\n",
    "        print(\"Es palindromo\")\n",
    "\n",
    "    else:\n",
    "\n",
    "        print(\"No es palindromo\")\n",
    "        \n",
    "palindromo(\"Aguila\")"
   ]
  },
  {
   "cell_type": "code",
   "execution_count": 2,
   "metadata": {},
   "outputs": [
    {
     "name": "stdout",
     "output_type": "stream",
     "text": [
      "arenerA\n",
      "No es palindromo\n"
     ]
    }
   ],
   "source": [
    "def palindromo(palabra):\n",
    "\n",
    "    palabra_al_reves = palabra[::-1]\n",
    "\n",
    "    print(palabra_al_reves)\n",
    "\n",
    "    if( palabra == palabra_al_reves ):\n",
    "\n",
    "        print(\"Es palindromo\")\n",
    "\n",
    "    else:\n",
    "\n",
    "        print(\"No es palindromo\")\n",
    "        \n",
    "palindromo(\"Arenera\")"
   ]
  },
  {
   "cell_type": "code",
   "execution_count": 3,
   "metadata": {},
   "outputs": [
    {
     "name": "stdout",
     "output_type": "stream",
     "text": [
      "arenera\n",
      "Es palindromo\n"
     ]
    }
   ],
   "source": [
    "def palindromo(palabra):\n",
    "\n",
    "    palabra_al_reves = palabra[::-1]\n",
    "\n",
    "    print(palabra_al_reves)\n",
    "\n",
    "    if( palabra == palabra_al_reves ):\n",
    "\n",
    "        print(\"Es palindromo\")\n",
    "\n",
    "    else:\n",
    "\n",
    "        print(\"No es palindromo\")\n",
    "        \n",
    "palindromo(\"arenera\")"
   ]
  },
  {
   "cell_type": "code",
   "execution_count": 4,
   "metadata": {},
   "outputs": [
    {
     "data": {
      "text/plain": [
       "'arenera'"
      ]
     },
     "execution_count": 4,
     "metadata": {},
     "output_type": "execute_result"
    }
   ],
   "source": [
    "palabra = \"arenera\"\n",
    "palabra[::-1]"
   ]
  },
  {
   "cell_type": "code",
   "execution_count": 5,
   "metadata": {},
   "outputs": [
    {
     "data": {
      "text/plain": [
       "'rotiA'"
      ]
     },
     "execution_count": 5,
     "metadata": {},
     "output_type": "execute_result"
    }
   ],
   "source": [
    "palabra = \"Aitor\"\n",
    "palabra[::-1]"
   ]
  },
  {
   "cell_type": "code",
   "execution_count": 6,
   "metadata": {},
   "outputs": [
    {
     "data": {
      "text/plain": [
       "'rotia'"
      ]
     },
     "execution_count": 6,
     "metadata": {},
     "output_type": "execute_result"
    }
   ],
   "source": [
    "palabra = \"aitor\"\n",
    "palabra[::-1]"
   ]
  },
  {
   "cell_type": "code",
   "execution_count": 7,
   "metadata": {},
   "outputs": [
    {
     "data": {
      "text/plain": [
       "'aicul'"
      ]
     },
     "execution_count": 7,
     "metadata": {},
     "output_type": "execute_result"
    }
   ],
   "source": [
    "palabra = \"lucia\"\n",
    "palabra[::-1]"
   ]
  },
  {
   "cell_type": "code",
   "execution_count": 8,
   "metadata": {},
   "outputs": [
    {
     "data": {
      "text/plain": [
       "'oizangi'"
      ]
     },
     "execution_count": 8,
     "metadata": {},
     "output_type": "execute_result"
    }
   ],
   "source": [
    "palabra = \"ignazio\"\n",
    "palabra[::-1]"
   ]
  },
  {
   "cell_type": "code",
   "execution_count": 9,
   "metadata": {},
   "outputs": [
    {
     "data": {
      "text/plain": [
       "'ajelam'"
      ]
     },
     "execution_count": 9,
     "metadata": {},
     "output_type": "execute_result"
    }
   ],
   "source": [
    "palabra = \"maleja\"\n",
    "palabra[::-1]"
   ]
  },
  {
   "cell_type": "code",
   "execution_count": 10,
   "metadata": {},
   "outputs": [
    {
     "data": {
      "text/plain": [
       "'leunam'"
      ]
     },
     "execution_count": 10,
     "metadata": {},
     "output_type": "execute_result"
    }
   ],
   "source": [
    "palabra = \"manuel\"\n",
    "palabra[::-1]"
   ]
  },
  {
   "cell_type": "code",
   "execution_count": 11,
   "metadata": {},
   "outputs": [
    {
     "data": {
      "text/plain": [
       "'otsenre esoj'"
      ]
     },
     "execution_count": 11,
     "metadata": {},
     "output_type": "execute_result"
    }
   ],
   "source": [
    "palabra = \"jose ernesto\"\n",
    "palabra[::-1]"
   ]
  },
  {
   "cell_type": "code",
   "execution_count": 12,
   "metadata": {},
   "outputs": [
    {
     "data": {
      "text/plain": [
       "'zirtaeb'"
      ]
     },
     "execution_count": 12,
     "metadata": {},
     "output_type": "execute_result"
    }
   ],
   "source": [
    "palabra = \"beatriz\"\n",
    "palabra[::-1]"
   ]
  },
  {
   "cell_type": "code",
   "execution_count": 13,
   "metadata": {},
   "outputs": [
    {
     "data": {
      "text/plain": [
       "'náliM'"
      ]
     },
     "execution_count": 13,
     "metadata": {},
     "output_type": "execute_result"
    }
   ],
   "source": [
    "palabra = \"Milán\"\n",
    "palabra[::-1]"
   ]
  },
  {
   "cell_type": "code",
   "execution_count": 14,
   "metadata": {},
   "outputs": [
    {
     "data": {
      "text/plain": [
       "'livom'"
      ]
     },
     "execution_count": 14,
     "metadata": {},
     "output_type": "execute_result"
    }
   ],
   "source": [
    "palabra = \"movil\"\n",
    "palabra[::-1]"
   ]
  },
  {
   "cell_type": "code",
   "execution_count": 15,
   "metadata": {},
   "outputs": [
    {
     "name": "stdout",
     "output_type": "stream",
     "text": [
      "livom\n",
      "No es palindromo\n"
     ]
    }
   ],
   "source": [
    "def palindromo(palabra):\n",
    "\n",
    "    palabra_al_reves = palabra[::-1]\n",
    "\n",
    "    print(palabra_al_reves)\n",
    "\n",
    "    if( palabra == palabra_al_reves ):\n",
    "\n",
    "        print(\"Es palindromo\")\n",
    "\n",
    "    else:\n",
    "\n",
    "        print(\"No es palindromo\")\n",
    "        \n",
    "palindromo(\"movil\")"
   ]
  },
  {
   "cell_type": "code",
   "execution_count": 16,
   "metadata": {},
   "outputs": [
    {
     "name": "stdout",
     "output_type": "stream",
     "text": [
      "arenera\n",
      "Es palindromo\n"
     ]
    }
   ],
   "source": [
    "def palindromo(palabra):\n",
    "\n",
    "    palabra_al_reves = palabra[::-1]\n",
    "\n",
    "    print(palabra_al_reves)\n",
    "\n",
    "    if( palabra == palabra_al_reves ):\n",
    "\n",
    "        print(\"Es palindromo\")\n",
    "\n",
    "    else:\n",
    "\n",
    "        print(\"No es palindromo\")\n",
    "        \n",
    "palindromo(\"arenera\")"
   ]
  },
  {
   "cell_type": "code",
   "execution_count": 17,
   "metadata": {},
   "outputs": [
    {
     "name": "stdout",
     "output_type": "stream",
     "text": [
      "zirtaeb\n",
      "No es palindromo\n"
     ]
    }
   ],
   "source": [
    "palindromo(\"beatriz\")"
   ]
  },
  {
   "cell_type": "code",
   "execution_count": 18,
   "metadata": {},
   "outputs": [
    {
     "name": "stdout",
     "output_type": "stream",
     "text": [
      "ana\n",
      "Es palindromo\n"
     ]
    }
   ],
   "source": [
    "palindromo(\"ana\")"
   ]
  },
  {
   "cell_type": "code",
   "execution_count": 19,
   "metadata": {},
   "outputs": [],
   "source": [
    "def Suma(a,b):\n",
    "    resultado = a + b\n",
    "    print(resultado)"
   ]
  },
  {
   "cell_type": "code",
   "execution_count": 20,
   "metadata": {},
   "outputs": [
    {
     "name": "stdout",
     "output_type": "stream",
     "text": [
      "120\n"
     ]
    }
   ],
   "source": [
    "Suma(20,100)"
   ]
  },
  {
   "cell_type": "code",
   "execution_count": 21,
   "metadata": {},
   "outputs": [
    {
     "name": "stdout",
     "output_type": "stream",
     "text": [
      "2222222211\n"
     ]
    }
   ],
   "source": [
    "Suma(1234567890,987654321)"
   ]
  },
  {
   "cell_type": "code",
   "execution_count": 22,
   "metadata": {},
   "outputs": [
    {
     "name": "stdout",
     "output_type": "stream",
     "text": [
      "1053\n"
     ]
    }
   ],
   "source": [
    "Suma(156,897)"
   ]
  },
  {
   "cell_type": "code",
   "execution_count": 23,
   "metadata": {},
   "outputs": [],
   "source": [
    "def Suma(a,b):\n",
    "    resultado = a + b\n",
    "    return(resultado)"
   ]
  },
  {
   "cell_type": "code",
   "execution_count": 24,
   "metadata": {},
   "outputs": [
    {
     "data": {
      "text/plain": [
       "113"
      ]
     },
     "execution_count": 24,
     "metadata": {},
     "output_type": "execute_result"
    }
   ],
   "source": [
    "Suma(35,78)"
   ]
  },
  {
   "cell_type": "code",
   "execution_count": 25,
   "metadata": {},
   "outputs": [
    {
     "data": {
      "text/plain": [
       "2"
      ]
     },
     "execution_count": 25,
     "metadata": {},
     "output_type": "execute_result"
    }
   ],
   "source": [
    "Suma(1,1)"
   ]
  },
  {
   "cell_type": "code",
   "execution_count": 27,
   "metadata": {},
   "outputs": [
    {
     "data": {
      "text/plain": [
       "1500"
      ]
     },
     "execution_count": 27,
     "metadata": {},
     "output_type": "execute_result"
    }
   ],
   "source": [
    "1500%3600"
   ]
  },
  {
   "cell_type": "code",
   "execution_count": 31,
   "metadata": {},
   "outputs": [
    {
     "data": {
      "text/plain": [
       "0"
      ]
     },
     "execution_count": 31,
     "metadata": {},
     "output_type": "execute_result"
    }
   ],
   "source": [
    "4%2"
   ]
  },
  {
   "cell_type": "code",
   "execution_count": 32,
   "metadata": {},
   "outputs": [
    {
     "data": {
      "text/plain": [
       "1"
      ]
     },
     "execution_count": 32,
     "metadata": {},
     "output_type": "execute_result"
    }
   ],
   "source": [
    "4%3"
   ]
  },
  {
   "cell_type": "code",
   "execution_count": 33,
   "metadata": {},
   "outputs": [
    {
     "ename": "SyntaxError",
     "evalue": "invalid syntax (<ipython-input-33-57a2350bab3a>, line 1)",
     "output_type": "error",
     "traceback": [
      "\u001b[0;36m  File \u001b[0;32m\"<ipython-input-33-57a2350bab3a>\"\u001b[0;36m, line \u001b[0;32m1\u001b[0m\n\u001b[0;31m    4%%3\u001b[0m\n\u001b[0m      ^\u001b[0m\n\u001b[0;31mSyntaxError\u001b[0m\u001b[0;31m:\u001b[0m invalid syntax\n"
     ]
    }
   ],
   "source": [
    "4%%3"
   ]
  },
  {
   "cell_type": "code",
   "execution_count": 34,
   "metadata": {},
   "outputs": [
    {
     "data": {
      "text/plain": [
       "25.0"
      ]
     },
     "execution_count": 34,
     "metadata": {},
     "output_type": "execute_result"
    }
   ],
   "source": [
    "int(1500%3600)/60"
   ]
  },
  {
   "cell_type": "code",
   "execution_count": 35,
   "metadata": {},
   "outputs": [
    {
     "name": "stdout",
     "output_type": "stream",
     "text": [
      "Son 1 horas 1 minutos 1 segundos\n"
     ]
    }
   ],
   "source": [
    "def segundos_a_HMS(segundos):\n",
    "\n",
    "    hs = int(segundos / 3600)\n",
    "\n",
    "    min = int((segundos % 3600) / 60)\n",
    "\n",
    "    seg = int((segundos % 3600 ) % 60)\n",
    "\n",
    "    return (hs, min, seg)\n",
    "\n",
    "(h, m, s) = segundos_a_HMS(3661)\n",
    "\n",
    "print (\"Son\",h,\"horas\",m,\"minutos\",s,\"segundos\")"
   ]
  },
  {
   "cell_type": "code",
   "execution_count": 36,
   "metadata": {},
   "outputs": [
    {
     "name": "stdout",
     "output_type": "stream",
     "text": [
      "lebasI\n",
      "No es palindromo\n"
     ]
    }
   ],
   "source": [
    "def palindromo(palabra):\n",
    "\n",
    "    palabra_al_reves = palabra[::-1]\n",
    "\n",
    "    print(palabra_al_reves)\n",
    "\n",
    "    if( palabra == palabra_al_reves ):\n",
    "\n",
    "        print(\"Es palindromo\")\n",
    "\n",
    "    else:\n",
    "\n",
    "        print(\"No es palindromo\")\n",
    "        \n",
    "palindromo(\"Isabel\")"
   ]
  },
  {
   "cell_type": "code",
   "execution_count": 37,
   "metadata": {},
   "outputs": [
    {
     "ename": "IndentationError",
     "evalue": "expected an indented block (<ipython-input-37-9ff633a6df7b>, line 37)",
     "output_type": "error",
     "traceback": [
      "\u001b[0;36m  File \u001b[0;32m\"<ipython-input-37-9ff633a6df7b>\"\u001b[0;36m, line \u001b[0;32m37\u001b[0m\n\u001b[0;31m    print (\"Adios\")\u001b[0m\n\u001b[0m        ^\u001b[0m\n\u001b[0;31mIndentationError\u001b[0m\u001b[0;31m:\u001b[0m expected an indented block\n"
     ]
    }
   ],
   "source": [
    "from math import pi\n",
    "\n",
    "radio = float(input('Teclea el radio de un círculo: '))\n",
    "\n",
    "print (\"Selecciona una opción\")\n",
    "\n",
    "print (\"1 Calcular perímetro\")\n",
    "\n",
    "print (\"2 Calcular área\")\n",
    "\n",
    "print (\"3 Ambos\")\n",
    "\n",
    "print (\"4 Salir\")\n",
    "\n",
    "opcion = int(input('Teclea opción: '))\n",
    "\n",
    "while not opcion in (1,2,3,4):\n",
    "\n",
    "    opcion = int(input('Teclea opción: '))\n",
    "\n",
    "if opcion == 1:   \n",
    "\n",
    "    print (\"Perímetro es: \",(2*pi*radio) )\n",
    "\n",
    "elif opcion == 2:   \n",
    "\n",
    "    print (\"Área es: \",(pi*radio*radio) )\n",
    "\n",
    "elif opcion == 3:  \n",
    "\n",
    "    print (\"Perímetro es: \",(2*pi*radio) )\n",
    "\n",
    "    print (\"Área es: \",(pi*radio*radio) )\n",
    "\n",
    "else:\n",
    "\n",
    "print (\"Adios\")"
   ]
  },
  {
   "cell_type": "code",
   "execution_count": 40,
   "metadata": {},
   "outputs": [
    {
     "ename": "SyntaxError",
     "evalue": "invalid syntax (<ipython-input-40-3e998a510463>, line 35)",
     "output_type": "error",
     "traceback": [
      "\u001b[0;36m  File \u001b[0;32m\"<ipython-input-40-3e998a510463>\"\u001b[0;36m, line \u001b[0;32m35\u001b[0m\n\u001b[0;31m    else\u001b[0m\n\u001b[0m        ^\u001b[0m\n\u001b[0;31mSyntaxError\u001b[0m\u001b[0;31m:\u001b[0m invalid syntax\n"
     ]
    }
   ],
   "source": [
    "from math import pi\n",
    "\n",
    "radio = float(input('Teclea el radio de un círculo: '))\n",
    "\n",
    "print (\"Selecciona una opción\")\n",
    "\n",
    "print (\"1 Calcular perímetro\")\n",
    "\n",
    "print (\"2 Calcular área\")\n",
    "\n",
    "print (\"3 Ambos\")\n",
    "\n",
    "print (\"4 Salir\")\n",
    "\n",
    "opcion = int(input('Teclea opción: '))\n",
    "\n",
    "while not opcion in (1,2,3,4):\n",
    "\n",
    "    opcion = int(input('Teclea opción: '))\n",
    "\n",
    "if opcion == 1:   \n",
    "\n",
    "    print (\"Perímetro es: \",(2*pi*radio) )\n",
    "\n",
    "elif opcion == 2:   \n",
    "\n",
    "    print (\"Área es: \",(pi*radio*radio) )\n",
    "\n",
    "elif opcion == 3:  \n",
    "\n",
    "    print (\"Perímetro es: \",(2*pi*radio) )\n",
    "\n",
    "    print (\"Área es: \",(pi*radio*radio) )\n",
    "\n",
    "else\n",
    "\n",
    "print (\"Adios\")"
   ]
  },
  {
   "cell_type": "code",
   "execution_count": 43,
   "metadata": {},
   "outputs": [
    {
     "ename": "IndentationError",
     "evalue": "expected an indented block (<ipython-input-43-de10e9393c51>, line 37)",
     "output_type": "error",
     "traceback": [
      "\u001b[0;36m  File \u001b[0;32m\"<ipython-input-43-de10e9393c51>\"\u001b[0;36m, line \u001b[0;32m37\u001b[0m\n\u001b[0;31m    print (\"Adios\")\u001b[0m\n\u001b[0m        ^\u001b[0m\n\u001b[0;31mIndentationError\u001b[0m\u001b[0;31m:\u001b[0m expected an indented block\n"
     ]
    }
   ],
   "source": [
    "from math import pi\n",
    "\n",
    "radio = float(input('Teclea el radio de un círculo: '))\n",
    "\n",
    "print (\"Selecciona una opción\")\n",
    "\n",
    "print (\"1 Calcular perímetro\")\n",
    "\n",
    "print (\"2 Calcular área\")\n",
    "\n",
    "print (\"3 Ambos\")\n",
    "\n",
    "print (\"4 Salir\")\n",
    "\n",
    "opcion = int(input('Teclea opción: '))\n",
    "\n",
    "while not opcion in (1,2,3,4):\n",
    "\n",
    "    opcion = int(input('Teclea opción: '))\n",
    "\n",
    "if opcion == 1:   \n",
    "\n",
    "    print (\"Perímetro es: \",(2*pi*radio) )\n",
    "\n",
    "elif opcion == 2:   \n",
    "\n",
    "    print (\"Área es: \",(pi*radio*radio) )\n",
    "\n",
    "elif opcion == 3:  \n",
    "\n",
    "    print (\"Perímetro es: \",(2*pi*radio) )\n",
    "\n",
    "    print (\"Área es: \",(pi*radio*radio) )\n",
    "\n",
    "else:\n",
    "    \n",
    "print (\"Adios\")"
   ]
  },
  {
   "cell_type": "code",
   "execution_count": 44,
   "metadata": {},
   "outputs": [
    {
     "ename": "IndentationError",
     "evalue": "expected an indented block (<ipython-input-44-9ff633a6df7b>, line 37)",
     "output_type": "error",
     "traceback": [
      "\u001b[0;36m  File \u001b[0;32m\"<ipython-input-44-9ff633a6df7b>\"\u001b[0;36m, line \u001b[0;32m37\u001b[0m\n\u001b[0;31m    print (\"Adios\")\u001b[0m\n\u001b[0m        ^\u001b[0m\n\u001b[0;31mIndentationError\u001b[0m\u001b[0;31m:\u001b[0m expected an indented block\n"
     ]
    }
   ],
   "source": [
    "from math import pi\n",
    "\n",
    "radio = float(input('Teclea el radio de un círculo: '))\n",
    "\n",
    "print (\"Selecciona una opción\")\n",
    "\n",
    "print (\"1 Calcular perímetro\")\n",
    "\n",
    "print (\"2 Calcular área\")\n",
    "\n",
    "print (\"3 Ambos\")\n",
    "\n",
    "print (\"4 Salir\")\n",
    "\n",
    "opcion = int(input('Teclea opción: '))\n",
    "\n",
    "while not opcion in (1,2,3,4):\n",
    "\n",
    "    opcion = int(input('Teclea opción: '))\n",
    "\n",
    "if opcion == 1:   \n",
    "\n",
    "    print (\"Perímetro es: \",(2*pi*radio) )\n",
    "\n",
    "elif opcion == 2:   \n",
    "\n",
    "    print (\"Área es: \",(pi*radio*radio) )\n",
    "\n",
    "elif opcion == 3:  \n",
    "\n",
    "    print (\"Perímetro es: \",(2*pi*radio) )\n",
    "\n",
    "    print (\"Área es: \",(pi*radio*radio) )\n",
    "\n",
    "else:\n",
    "\n",
    "print (\"Adios\")"
   ]
  },
  {
   "cell_type": "code",
   "execution_count": 48,
   "metadata": {},
   "outputs": [
    {
     "name": "stdout",
     "output_type": "stream",
     "text": [
      "Teclea el radio de un círculo: 5\n",
      "Selecciona una opción:\n",
      "1 Calcular el perímetro\n",
      "2 Calcular el área\n",
      "3 Calcular ambos\n",
      "4 Salir\n",
      "Teclea una opción: 3\n",
      "El perímetro es:  31.41592653589793\n",
      "El área es:  78.53981633974483\n"
     ]
    }
   ],
   "source": [
    "from math import pi\n",
    "\n",
    "radio = float(input(\"Teclea el radio de un círculo: \"))\n",
    "\n",
    "print(\"Selecciona una opción:\")\n",
    "print(\"1 Calcular el perímetro\")\n",
    "print(\"2 Calcular el área\")\n",
    "print(\"3 Calcular ambos\")\n",
    "print(\"4 Salir\")\n",
    "\n",
    "opcion = int(input(\"Teclea una opción: \"))\n",
    "\n",
    "while not opcion in (1,2,3,4):\n",
    "    opcion = int(input(\"Teclea una opción: \"))\n",
    "    \n",
    "if opcion == 1:\n",
    "    print(\"El perímetro es: \", (2*pi*radio))\n",
    "\n",
    "elif opcion == 2:\n",
    "    print(\"El área es: \", (pi*(radio**2)))\n",
    "    \n",
    "elif opcion == 3:\n",
    "    print(\"El perímetro es: \", (2*pi*radio))\n",
    "    print(\"El área es: \", (pi*(radio**2)))\n",
    "    \n",
    "else:\n",
    "    print(\"Adios\")"
   ]
  },
  {
   "cell_type": "code",
   "execution_count": 2,
   "metadata": {},
   "outputs": [
    {
     "name": "stdout",
     "output_type": "stream",
     "text": [
      "Texto a cifrar: Hola\n",
      "Desplazamiento letra: 4\n",
      "Lspe\n"
     ]
    }
   ],
   "source": [
    "def convertir(text,desp):\n",
    "\n",
    "    resul = \"\"\n",
    "\n",
    "    for car in text: #Itera cada letra del texto\n",
    "\n",
    "        if car.isalpha(): #Si es carácter, se sustituye la letra\n",
    "\n",
    "            if car.islower():\n",
    "\n",
    "                resul += chr((ord(car) - 97 + int(desp)) % 26 + 97)\n",
    "\n",
    "            if car.isupper():\n",
    "\n",
    "                resul += chr((ord(car) - 65 + int(desp)) % 26 + 65)   \n",
    "\n",
    "        else: #No se sustituyen otros símbolos, pertecen igual\n",
    "\n",
    "            resul += car\n",
    "\n",
    "    return resul   \n",
    "\n",
    " \n",
    "\n",
    "if __name__ == \"__main__\":   # programa principal\n",
    "\n",
    "    texto = input(\"Texto a cifrar: \")\n",
    "\n",
    "    desp = input(\"Desplazamiento letra: \")\n",
    "\n",
    "    if desp.isdigit():\n",
    "\n",
    "        cifrado = convertir(texto,desp)\n",
    "\n",
    "        print (cifrado)\n",
    "\n",
    "    else:\n",
    "\n",
    "        print (\"El desplazamiento ha de ser un digito\")"
   ]
  },
  {
   "cell_type": "code",
   "execution_count": null,
   "metadata": {},
   "outputs": [],
   "source": []
  }
 ],
 "metadata": {
  "kernelspec": {
   "display_name": "Python 3",
   "language": "python",
   "name": "python3"
  },
  "language_info": {
   "codemirror_mode": {
    "name": "ipython",
    "version": 3
   },
   "file_extension": ".py",
   "mimetype": "text/x-python",
   "name": "python",
   "nbconvert_exporter": "python",
   "pygments_lexer": "ipython3",
   "version": "3.7.4"
  }
 },
 "nbformat": 4,
 "nbformat_minor": 2
}
